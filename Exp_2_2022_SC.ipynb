{
  "nbformat": 4,
  "nbformat_minor": 0,
  "metadata": {
    "colab": {
      "provenance": []
    },
    "kernelspec": {
      "name": "python3",
      "display_name": "Python 3"
    },
    "language_info": {
      "name": "python"
    }
  },
  "cells": [
    {
      "cell_type": "markdown",
      "source": [
        "# Familiarization of Scientific Computing\n",
        "Aim:\n",
        "\n",
        "Basic arithmetic functions such as abs,  real, imag, complex, sine, sinc etc.using bulit in modules. "
      ],
      "metadata": {
        "id": "_bIg46l_1iLm"
      }
    },
    {
      "cell_type": "markdown",
      "source": [
        "**abs()** for real and complex numbers-The absolute value of a number refers to that value's magnitude, regardless of whether it is positive or negative. For example, the absolute value of -10 is 10."
      ],
      "metadata": {
        "id": "ZZPZQNll2avN"
      }
    },
    {
      "cell_type": "code",
      "source": [
        "abs(-10)"
      ],
      "metadata": {
        "colab": {
          "base_uri": "https://localhost:8080/"
        },
        "id": "jmDw2iu42J-E",
        "outputId": "1e4ff8dd-39e1-4a66-f4fa-e1432b7f8745"
      },
      "execution_count": null,
      "outputs": [
        {
          "output_type": "execute_result",
          "data": {
            "text/plain": [
              "10"
            ]
          },
          "metadata": {},
          "execution_count": 4
        }
      ]
    },
    {
      "cell_type": "markdown",
      "source": [
        "Applying the abs() function to a real and float numbers , \n",
        "\n",
        "returns the magnitude of that number."
      ],
      "metadata": {
        "id": "x_xpbUvf2XI5"
      }
    },
    {
      "cell_type": "code",
      "source": [
        "real_list = [-10, -2, 0, 7, 8]\n",
        "\n",
        "for x in real_list:\n",
        "    absolute_value = abs(x)\n",
        "    print(absolute_value)\n",
        "    "
      ],
      "metadata": {
        "colab": {
          "base_uri": "https://localhost:8080/"
        },
        "id": "jiBwLzQ_3q_2",
        "outputId": "dd130b86-bf6e-4646-8b6f-f9e21c3e6642"
      },
      "execution_count": null,
      "outputs": [
        {
          "output_type": "stream",
          "name": "stdout",
          "text": [
            "10\n",
            "2\n",
            "0\n",
            "7\n",
            "8\n"
          ]
        }
      ]
    },
    {
      "cell_type": "code",
      "source": [
        "float_list = [-3.16, -8.12, 1.88, 6.32]\n",
        "\n",
        "for number in float_list:\n",
        "    absolute_value = abs(number)\n",
        "    print(absolute_value)"
      ],
      "metadata": {
        "colab": {
          "base_uri": "https://localhost:8080/"
        },
        "id": "UEUvyjO32KCz",
        "outputId": "1c094655-a7dc-48dc-e843-2823e52ff6f9"
      },
      "execution_count": null,
      "outputs": [
        {
          "output_type": "stream",
          "name": "stdout",
          "text": [
            "3.16\n",
            "8.12\n",
            "1.88\n",
            "6.32\n"
          ]
        }
      ]
    },
    {
      "cell_type": "markdown",
      "source": [
        "Applying the abs() function to complex numbers "
      ],
      "metadata": {
        "id": "4X8XHtix5q6B"
      }
    },
    {
      "cell_type": "code",
      "source": [
        "c = (8 + 9j)\n",
        "abs(c)\n",
        "#=Root(8^2+9^2)"
      ],
      "metadata": {
        "colab": {
          "base_uri": "https://localhost:8080/"
        },
        "id": "uXtHJDZj5ryf",
        "outputId": "e57497f8-5ba6-4b62-d15b-13e57e07703c"
      },
      "execution_count": null,
      "outputs": [
        {
          "output_type": "execute_result",
          "data": {
            "text/plain": [
              "12.041594578792296"
            ]
          },
          "metadata": {},
          "execution_count": 7
        }
      ]
    },
    {
      "cell_type": "markdown",
      "source": [
        "**real, imag**"
      ],
      "metadata": {
        "id": "JBNZS-57ql_-"
      }
    },
    {
      "cell_type": "code",
      "source": [
        "x = 8+5j\n",
        "print(type(x)) \n",
        "print(x.real) \n",
        "print(x.imag) "
      ],
      "metadata": {
        "colab": {
          "base_uri": "https://localhost:8080/"
        },
        "id": "PfAvNwCh8MTm",
        "outputId": "a18a52fb-199f-42c5-cbb3-99ece8b6ad0a"
      },
      "execution_count": null,
      "outputs": [
        {
          "output_type": "stream",
          "name": "stdout",
          "text": [
            "<class 'complex'>\n",
            "8.0\n",
            "5.0\n"
          ]
        }
      ]
    },
    {
      "cell_type": "markdown",
      "source": [
        "Create a complex number 10+8i, extract the real and imaginary parts and \n",
        "\n",
        "compute the magnitude of the vector using built in functions"
      ],
      "metadata": {
        "id": "z_jBGr_CDLAF"
      }
    },
    {
      "cell_type": "code",
      "source": [
        "z=complex(10,8)\n",
        "print(z)\n",
        "print('real value is:',(z.real)) \n",
        "print(z.imag) \n",
        "print(abs(z))"
      ],
      "metadata": {
        "colab": {
          "base_uri": "https://localhost:8080/"
        },
        "id": "CTdnLMUp8MOu",
        "outputId": "a5a4e712-8085-49f8-8c82-49fec0eec378"
      },
      "execution_count": null,
      "outputs": [
        {
          "output_type": "stream",
          "name": "stdout",
          "text": [
            "(10+8j)\n",
            "real value is: 10.0\n",
            "8.0\n",
            "12.806248474865697\n"
          ]
        }
      ]
    },
    {
      "cell_type": "markdown",
      "source": [
        "Find the sine of different numbers:\n",
        "Syntax\n",
        "np.sin(x)"
      ],
      "metadata": {
        "id": "fyPmb52TEe7g"
      }
    },
    {
      "cell_type": "code",
      "source": [
        "# Import numpy Library\n",
        "import numpy as np\n",
        "\n",
        "# Return the sine of different values\n",
        "print (np.sin(0.00))\n",
        "print (np.sin(30))\n",
        "print (np.sin(10))\n",
        "print (np.sin(np.pi))"
      ],
      "metadata": {
        "colab": {
          "base_uri": "https://localhost:8080/"
        },
        "id": "IfiqFROHqOAo",
        "outputId": "e2ff3463-1d9a-40c9-a107-1cdc3ee25ab9"
      },
      "execution_count": null,
      "outputs": [
        {
          "output_type": "stream",
          "name": "stdout",
          "text": [
            "0.0\n",
            "-0.9880316240928618\n",
            "-0.5440211108893698\n",
            "1.2246467991473532e-16\n"
          ]
        }
      ]
    },
    {
      "cell_type": "markdown",
      "source": [
        "Find the sine of different degrees:"
      ],
      "metadata": {
        "id": "Hg2trups621I"
      }
    },
    {
      "cell_type": "code",
      "source": [
        "# Import numpy Library\n",
        "import numpy as np\n",
        "\n",
        "# Return the sine value of 30 degrees\n",
        "print(np.sin(np.radians(30)))\n",
        "\n",
        "# Return the sine value of 90 degrees\n",
        "print(np.sin(np.radians(90)))\n",
        "\n",
        "# Return the sine value of 45 degrees\n",
        "print(np.sin(np.radians(45)))\n",
        "\n",
        "print(np.sin(np.radians(270)))"
      ],
      "metadata": {
        "colab": {
          "base_uri": "https://localhost:8080/"
        },
        "id": "K5fM52B_Jnkd",
        "outputId": "e828663c-490c-449f-f47a-0defca883ad0"
      },
      "execution_count": null,
      "outputs": [
        {
          "output_type": "stream",
          "name": "stdout",
          "text": [
            "0.49999999999999994\n",
            "1.0\n",
            "0.7071067811865475\n",
            "-1.0\n"
          ]
        }
      ]
    },
    {
      "cell_type": "markdown",
      "source": [
        "To polt Sine"
      ],
      "metadata": {
        "id": "xjW4-h8QLqal"
      }
    },
    {
      "cell_type": "code",
      "source": [
        "import matplotlib.pyplot as plt\n",
        "import numpy as np\n",
        "# if using a jupyter notebook\n",
        "%matplotlib inline \n",
        "x = np.arange(0,4*np.pi,.1)   # start,stop,step\n",
        "y = np.sin(x)\n",
        "plt.plot(x,y)\n",
        "plt.show()"
      ],
      "metadata": {
        "colab": {
          "base_uri": "https://localhost:8080/",
          "height": 265
        },
        "id": "jLMrxPBILqvo",
        "outputId": "e46e3a1f-6c17-4483-8958-fac1e85a66f4"
      },
      "execution_count": null,
      "outputs": [
        {
          "output_type": "display_data",
          "data": {
            "text/plain": [
              "<Figure size 432x288 with 1 Axes>"
            ],
            "image/png": "[encoded data removed]"
          },
          "metadata": {
            "needs_background": "light"
          }
        }
      ]
    },
    {
      "cell_type": "code",
      "source": [
        "z = np.cos(x)\n",
        "\n",
        "plt.plot(x,z)\n",
        "plt.show()"
      ],
      "metadata": {
        "colab": {
          "base_uri": "https://localhost:8080/",
          "height": 265
        },
        "id": "ANnFO911OEME",
        "outputId": "ac287b55-fce4-4ef9-d887-f9be7212a8f3"
      },
      "execution_count": null,
      "outputs": [
        {
          "output_type": "display_data",
          "data": {
            "text/plain": [
              "<Figure size 432x288 with 1 Axes>"
            ],
            "image/png": "[encoded data removed]"
          },
          "metadata": {
            "needs_background": "light"
          }
        }
      ]
    },
    {
      "cell_type": "code",
      "source": [
        "plt.plot(x,y)\n",
        "plt.plot(x,z)\n",
        "plt.show()"
      ],
      "metadata": {
        "colab": {
          "base_uri": "https://localhost:8080/",
          "height": 265
        },
        "id": "pbtqKDlKOOy9",
        "outputId": "89bf7a43-5608-448b-9a87-b52f9ede3f5d"
      },
      "execution_count": null,
      "outputs": [
        {
          "output_type": "display_data",
          "data": {
            "text/plain": [
              "<Figure size 432x288 with 1 Axes>"
            ],
            "image/png": "[encoded data removed]"
          },
          "metadata": {
            "needs_background": "light"
          }
        }
      ]
    },
    {
      "cell_type": "code",
      "source": [
        "plt.plot(x,y,x,z)\n",
        "plt.xlabel('x values from 0 to 4pi')  # string must be enclosed with quotes '  '\n",
        "plt.ylabel('sin(x) and cos(x)')\n",
        "plt.title('Plot of sin and cos from 0 to 4pi')\n",
        "plt.legend(['sin(x)', 'cos(x)'])      # legend entries as seperate strings in a list\n",
        "plt.show()"
      ],
      "metadata": {
        "colab": {
          "base_uri": "https://localhost:8080/",
          "height": 295
        },
        "id": "Jc6Pigv1OYof",
        "outputId": "d091f138-b99d-4bc1-fe72-17329b99194f"
      },
      "execution_count": null,
      "outputs": [
        {
          "output_type": "display_data",
          "data": {
            "text/plain": [
              "<Figure size 432x288 with 1 Axes>"
            ],
            "image/png": "[encoded data removed]"
          },
          "metadata": {
            "needs_background": "light"
          }
        }
      ]
    },
    {
      "cell_type": "markdown",
      "source": [
        "The sinc function is equal to (sin (pi*x)) / (pi*x) for any argument x!=0 . "
      ],
      "metadata": {
        "id": "Lek5lPUEPKFX"
      }
    },
    {
      "cell_type": "code",
      "source": [
        "print (np.sinc(0))\n",
        "print (np.sinc(30))\n",
        "print (np.sinc(10))\n"
      ],
      "metadata": {
        "colab": {
          "base_uri": "https://localhost:8080/"
        },
        "id": "fnhJuk-XPgAb",
        "outputId": "2ef47f33-1ac7-4ed1-9e7b-d0ea4f3b9f9b"
      },
      "execution_count": null,
      "outputs": [
        {
          "output_type": "stream",
          "name": "stdout",
          "text": [
            "1.0\n",
            "-1.1437264410803267e-16\n",
            "-3.898171832519376e-17\n"
          ]
        }
      ]
    },
    {
      "cell_type": "code",
      "source": [
        "import matplotlib.pyplot as plt\n",
        "x = np.linspace(-4, 4, 50)\n",
        "np.sinc(x)"
      ],
      "metadata": {
        "colab": {
          "base_uri": "https://localhost:8080/"
        },
        "id": "N87rNtsSSRbK",
        "outputId": "a05cc9f8-7e20-4600-8811-a574553e0740"
      },
      "execution_count": null,
      "outputs": [
        {
          "output_type": "execute_result",
          "data": {
            "text/plain": [
              "array([-3.89817183e-17, -4.07117668e-02, -7.40989966e-02, -9.06347142e-02,\n",
              "       -8.43198347e-02, -5.45436440e-02, -6.75212863e-03,  4.83383193e-02,\n",
              "        9.69119539e-02,  1.25202513e-01,  1.22950537e-01,  8.63781505e-02,\n",
              "        1.99452367e-02, -6.36207466e-02, -1.45171069e-01, -2.02595478e-01,\n",
              "       -2.15256839e-01, -1.68508964e-01, -5.73372382e-02,  1.11700022e-01,\n",
              "        3.20729235e-01,  5.43076087e-01,  7.47625965e-01,  9.04224087e-01,\n",
              "        9.89074331e-01,  9.89074331e-01,  9.04224087e-01,  7.47625965e-01,\n",
              "        5.43076087e-01,  3.20729235e-01,  1.11700022e-01, -5.73372382e-02,\n",
              "       -1.68508964e-01, -2.15256839e-01, -2.02595478e-01, -1.45171069e-01,\n",
              "       -6.36207466e-02,  1.99452367e-02,  8.63781505e-02,  1.22950537e-01,\n",
              "        1.25202513e-01,  9.69119539e-02,  4.83383193e-02, -6.75212863e-03,\n",
              "       -5.45436440e-02, -8.43198347e-02, -9.06347142e-02, -7.40989966e-02,\n",
              "       -4.07117668e-02, -3.89817183e-17])"
            ]
          },
          "metadata": {},
          "execution_count": 23
        }
      ]
    },
    {
      "cell_type": "code",
      "source": [
        "import matplotlib.pyplot as plt\n",
        "x = np.linspace(-4, 4,50)\n",
        "y=np.sinc(x)\n",
        "\n",
        "plt.plot(x, y)\n",
        "plt.title(\"Sinc Function\")\n",
        "plt.ylabel(\"Amplitude\")\n",
        "plt.xlabel(\"X\")\n",
        "plt.show()"
      ],
      "metadata": {
        "colab": {
          "base_uri": "https://localhost:8080/",
          "height": 295
        },
        "id": "QefltjhxRFKV",
        "outputId": "061ef58d-8f86-4d92-91ff-3672e5e8a745"
      },
      "execution_count": null,
      "outputs": [
        {
          "output_type": "display_data",
          "data": {
            "text/plain": [
              "<Figure size 432x288 with 1 Axes>"
            ],
            "image/png": "[encoded data removed]"
          },
          "metadata": {
            "needs_background": "light"
          }
        }
      ]
    },
    {
      "cell_type": "markdown",
      "source": [
        "Other Built in functions"
      ],
      "metadata": {
        "id": "U519DZCTYMYe"
      }
    },
    {
      "cell_type": "code",
      "source": [
        "x = min(5, 10, 25)\n",
        "y = max(5, 10, 25)\n",
        "\n",
        "print(x)\n",
        "print(y)"
      ],
      "metadata": {
        "colab": {
          "base_uri": "https://localhost:8080/"
        },
        "id": "9P2kcy-MXyWd",
        "outputId": "c850a8b8-3d98-4700-b8a3-58f6f5541f99"
      },
      "execution_count": null,
      "outputs": [
        {
          "output_type": "stream",
          "name": "stdout",
          "text": [
            "5\n",
            "25\n"
          ]
        }
      ]
    },
    {
      "cell_type": "code",
      "source": [
        "x = pow(4, 3)\n",
        "\n",
        "print(x)"
      ],
      "metadata": {
        "colab": {
          "base_uri": "https://localhost:8080/"
        },
        "id": "qmpG6LhGX3c4",
        "outputId": "5c6e1fb4-1f80-4fdf-e349-78ca3efc04d6"
      },
      "execution_count": null,
      "outputs": [
        {
          "output_type": "stream",
          "name": "stdout",
          "text": [
            "64\n"
          ]
        }
      ]
    },
    {
      "cell_type": "code",
      "source": [
        "import numpy as np\n",
        "\n",
        "x = np.sqrt(64)\n",
        "\n",
        "print(x)"
      ],
      "metadata": {
        "colab": {
          "base_uri": "https://localhost:8080/"
        },
        "id": "YbMKLTarX71w",
        "outputId": "b55771cb-5690-4806-8761-b207b7c7f697"
      },
      "execution_count": null,
      "outputs": [
        {
          "output_type": "stream",
          "name": "stdout",
          "text": [
            "8.0\n"
          ]
        }
      ]
    },
    {
      "cell_type": "code",
      "source": [
        "#The np.ceil() method rounds a number upwards to its nearest integer, \n",
        "#and the np.floor() method rounds a number downwards to its nearest integer,\n",
        "# and returns the result:\n",
        "import numpy as np\n",
        "\n",
        "x = np.ceil(1.4)\n",
        "y = np.floor(1.4)\n",
        "\n",
        "print(x) # returns 2\n",
        "print(y) # returns 1"
      ],
      "metadata": {
        "colab": {
          "base_uri": "https://localhost:8080/"
        },
        "id": "6IH8c7lAYBR1",
        "outputId": "8e90d121-0431-4408-ce38-2757b86831e5"
      },
      "execution_count": null,
      "outputs": [
        {
          "output_type": "stream",
          "name": "stdout",
          "text": [
            "2.0\n",
            "1.0\n"
          ]
        }
      ]
    }
  ]
}