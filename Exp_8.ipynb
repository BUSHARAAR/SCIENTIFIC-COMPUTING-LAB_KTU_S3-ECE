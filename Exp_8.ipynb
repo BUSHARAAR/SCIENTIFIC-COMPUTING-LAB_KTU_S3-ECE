{
  "nbformat": 4,
  "nbformat_minor": 0,
  "metadata": {
    "colab": {
      "provenance": []
    },
    "kernelspec": {
      "name": "python3",
      "display_name": "Python 3"
    },
    "language_info": {
      "name": "python"
    }
  },
  "cells": [
    {
      "cell_type": "markdown",
      "source": [
        "# Coin Toss and the Level Crossing Problem\n",
        "1. Simulate a coin toss that maps a head as 1 and tail as 0.\n",
        "2. Toss the coin N = 100, 500,1000, 5000 and 500000 times and compute\n",
        "the probability (p) of head in each case.\n",
        "3. Compute the absolute error |0.5 − p| in each case and plot against N\n",
        "and understand the law of large numbers.\n",
        "4. Create a uniform random vector with maximum magnitude 10, plot\n",
        "and observe.\n",
        "\n",
        "5. Set a threshold (VT = 2) and count how many times the random func-\n",
        "tion has crossed VT .\n",
        "\n",
        "6. Count how many times the function has gone above and below the\n",
        "threshold."
      ],
      "metadata": {
        "id": "38hmBnthB4QH"
      }
    },
    {
      "cell_type": "markdown",
      "source": [
        "1. Simulate a coin toss that maps a head as 1 and tail as 0."
      ],
      "metadata": {
        "id": "0Q35G_pRGSNR"
      }
    },
    {
      "cell_type": "code",
      "execution_count": 180,
      "metadata": {
        "colab": {
          "base_uri": "https://localhost:8080/"
        },
        "id": "vLR_oQEkBwxe",
        "outputId": "a754f2d7-04a5-4524-c6ab-05c7637f6b7c"
      },
      "outputs": [
        {
          "output_type": "stream",
          "name": "stdout",
          "text": [
            "head\n",
            "1\n"
          ]
        }
      ],
      "source": [
        "import random\n",
        "\n",
        "def cointoss():\n",
        "    Outcomes=['head','tail']\n",
        "    Result=random.choice(Outcomes)\n",
        "    print(Result)\n",
        "\n",
        "    if Result==Outcomes[0]:\n",
        "        return 1\n",
        "    else:\n",
        "        return 0   \n",
        " \n",
        "print(cointoss())"
      ]
    },
    {
      "cell_type": "code",
      "source": [
        "for i in range(0,5):\n",
        "    print(cointoss())"
      ],
      "metadata": {
        "colab": {
          "base_uri": "https://localhost:8080/"
        },
        "id": "ZpiUMqmtKm7-",
        "outputId": "a81e8287-5476-499b-be8c-7f4fd5a88c5c"
      },
      "execution_count": 181,
      "outputs": [
        {
          "output_type": "stream",
          "name": "stdout",
          "text": [
            "tail\n",
            "0\n",
            "head\n",
            "1\n",
            "head\n",
            "1\n",
            "head\n",
            "1\n",
            "tail\n",
            "0\n"
          ]
        }
      ]
    },
    {
      "cell_type": "markdown",
      "source": [
        "2. Toss the coin N = 100, 500,1000, 5000 and 500000 times and compute the probability (p) of head in each case."
      ],
      "metadata": {
        "id": "iUYTblX2Lkbk"
      }
    },
    {
      "cell_type": "code",
      "source": [
        "def cointoss():\n",
        "    Outcomes=['head','tail']\n",
        "    Result=random.choice(Outcomes)\n",
        "    print(Result)\n",
        "\n",
        "    if Result==Outcomes[0]:\n",
        "        return 1\n",
        "    else:\n",
        "        return 0   \n",
        " \n",
        "print(cointoss())"
      ],
      "metadata": {
        "colab": {
          "base_uri": "https://localhost:8080/"
        },
        "id": "Kk9L-QCtgJLl",
        "outputId": "b082b16b-273e-4dab-a86f-8192d6f470dd"
      },
      "execution_count": 182,
      "outputs": [
        {
          "output_type": "stream",
          "name": "stdout",
          "text": [
            "head\n",
            "1\n"
          ]
        }
      ]
    },
    {
      "cell_type": "code",
      "source": [
        "import random\n",
        "import matplotlib.pyplot as plt\n",
        "\n",
        "N = int(input(\"N=\"))\n",
        "result= [] \n",
        "  \n",
        "for i in range(0,N): # do this 'number' amount of times\n",
        "      cointoss = random.randint(0, 1)\n",
        "      #print(cointoss)\n",
        "\n",
        "      if (cointoss == 0):\n",
        "            result.append(1)\n",
        "      else:\n",
        "            result.append(0)\n",
        "\n",
        "print(\"No of Heads :\",result.count(1))\n",
        "print(\"No of Tails :\",result.count(0))\n",
        "\n",
        "Prob_H = (result.count(1))/N\n",
        "Prob_T = (result.count(0))/N\n",
        "\n",
        "print(\"Probability of Head is :\",Prob_H)\n",
        "print(\"Probability of Tail is :\",Prob_T)\n",
        "\n",
        " "
      ],
      "metadata": {
        "colab": {
          "base_uri": "https://localhost:8080/"
        },
        "id": "FxPvkr4LfCFz",
        "outputId": "63cd139d-9a11-4ddf-9557-b3cb3ea9b769"
      },
      "execution_count": 183,
      "outputs": [
        {
          "output_type": "stream",
          "name": "stdout",
          "text": [
            "N=100\n",
            "No of Heads : 48\n",
            "No of Tails : 52\n",
            "Probability of Head is : 0.48\n",
            "Probability of Tail is : 0.52\n"
          ]
        }
      ]
    },
    {
      "cell_type": "markdown",
      "source": [
        "3. Compute the absolute error |0.5 − p| in each case and plot against N and understand the law of large numbers."
      ],
      "metadata": {
        "id": "PuNktA8GklXF"
      }
    },
    {
      "cell_type": "code",
      "source": [
        "absolute_error = 0.5 - Prob_H\n",
        "absolute_error\n"
      ],
      "metadata": {
        "colab": {
          "base_uri": "https://localhost:8080/"
        },
        "id": "XLErrSXJs-Ua",
        "outputId": "0570a247-44b7-4588-b7f1-9e58ef5f7365"
      },
      "execution_count": 184,
      "outputs": [
        {
          "output_type": "execute_result",
          "data": {
            "text/plain": [
              "0.020000000000000018"
            ]
          },
          "metadata": {},
          "execution_count": 184
        }
      ]
    },
    {
      "cell_type": "code",
      "source": [
        "import random\n",
        "import matplotlib.pyplot as plt\n",
        "N = [10, 100, 500,1000,5000,10000,50000]\n",
        "absolute_error = []\n",
        "for j in N:\n",
        "  result= []   \n",
        "  for i in range(j): \n",
        "      cointoss = random.randint(0, 1)\n",
        "      if (cointoss == 0):\n",
        "            result.append(1)\n",
        "      else:\n",
        "            result.append(0)\n",
        "            \n",
        "  # print(\"Value of N is :\",j)\n",
        "  # print(\"No of Heads :\",result.count(1), \"No of Tails :\",result.count(0))\n",
        "  Prob_H = (result.count(1))/j\n",
        "  Prob_T = (result.count(0))/j\n",
        "  # print(\"Probability of Head is :\",Prob_H)\n",
        "  # print(\"Probability of Tail is :\",Prob_T)\n",
        "  ab_err = 0.5 - Prob_H\n",
        "  print(\"Absolute error :\",round(ab_err,3))\n",
        "  print(\"\")\n",
        "  absolute_error.append(round(ab_err,3))\n",
        " \n",
        "print(absolute_error)\n",
        "\n",
        "plt.plot(N,absolute_error)\n",
        "plt.title(\"N & Absolute error\")\n",
        "plt.xlabel(\"N\")\n",
        "plt.ylabel(\"Absolute error\")\n",
        "plt.show()\n"
      ],
      "metadata": {
        "colab": {
          "base_uri": "https://localhost:8080/",
          "height": 569
        },
        "id": "raoyDpiBqohK",
        "outputId": "ec4e07f4-b89b-4289-85f1-0132b198a9f5"
      },
      "execution_count": 185,
      "outputs": [
        {
          "output_type": "stream",
          "name": "stdout",
          "text": [
            "Absolute error : -0.2\n",
            "\n",
            "Absolute error : -0.05\n",
            "\n",
            "Absolute error : -0.008\n",
            "\n",
            "Absolute error : -0.009\n",
            "\n",
            "Absolute error : -0.006\n",
            "\n",
            "Absolute error : 0.002\n",
            "\n",
            "Absolute error : 0.003\n",
            "\n",
            "[-0.2, -0.05, -0.008, -0.009, -0.006, 0.002, 0.003]\n"
          ]
        },
        {
          "output_type": "display_data",
          "data": {
            "text/plain": [
              "<Figure size 432x288 with 1 Axes>"
            ],
            "image/png": "[encoded data removed]"
          },
          "metadata": {
            "needs_background": "light"
          }
        }
      ]
    },
    {
      "cell_type": "markdown",
      "source": [
        "4. Create a uniform random vector with maximum magnitude 10, plot and observe.\n",
        "\n",
        "5. Set a threshold (VT = 2) and count how many times the random function has crossed VT .\n",
        "\n",
        "6. Count how many times the function has gone above and below the threshold."
      ],
      "metadata": {
        "id": "LCrhwanMupUf"
      }
    },
    {
      "cell_type": "code",
      "source": [
        "s = np.random.uniform(0,10,30) #a uniform random vector with maximum magnitude 10\n",
        "print(s)\n",
        "import numpy as np\n",
        "import matplotlib.pyplot as plt\n",
        "#t=np.arange(0,10)\n",
        "#plt.plot(t,s)\n",
        "plt.plot(s)"
      ],
      "metadata": {
        "colab": {
          "base_uri": "https://localhost:8080/",
          "height": 377
        },
        "id": "2lwa9FdXv3np",
        "outputId": "20576c4f-9902-42c4-da32-d94fbd177c47"
      },
      "execution_count": 186,
      "outputs": [
        {
          "output_type": "stream",
          "name": "stdout",
          "text": [
            "[9.60343836 6.26247622 6.78373966 7.10321895 2.55062917 0.61900367\n",
            " 5.87376925 7.96060601 6.75912178 6.7324094  6.90901887 8.33488816\n",
            " 4.01047151 9.63036865 8.77634515 4.19060745 4.58041509 2.80790619\n",
            " 5.34156095 2.30644571 8.28725174 0.70554103 5.43625634 1.99922933\n",
            " 5.02321358 7.95130869 1.81575873 1.42081919 8.50675347 1.68249234]\n"
          ]
        },
        {
          "output_type": "execute_result",
          "data": {
            "text/plain": [
              "[<matplotlib.lines.Line2D at 0x7fda02f76750>]"
            ]
          },
          "metadata": {},
          "execution_count": 186
        },
        {
          "output_type": "display_data",
          "data": {
            "text/plain": [
              "<Figure size 432x288 with 1 Axes>"
            ],
            "image/png": "[encoded data removed]"
          },
          "metadata": {
            "needs_background": "light"
          }
        }
      ]
    },
    {
      "cell_type": "code",
      "source": [
        "#Set a threshold (VT = 2) and count how many times the random function has crossed VT .\n",
        "threshold = 2 \n",
        "crossed_vt = np.count_nonzero(s >= threshold)\n",
        "crossed_vt"
      ],
      "metadata": {
        "colab": {
          "base_uri": "https://localhost:8080/"
        },
        "id": "EOYn36GTw3YI",
        "outputId": "d22624ea-0b59-4352-8ea9-eb57823e73b8"
      },
      "execution_count": 187,
      "outputs": [
        {
          "output_type": "execute_result",
          "data": {
            "text/plain": [
              "24"
            ]
          },
          "metadata": {},
          "execution_count": 187
        }
      ]
    },
    {
      "cell_type": "code",
      "source": [
        "#Count how many times the function has gone above and below the threshold.\n",
        "crossed_vt = np.count_nonzero(s >= vt)\n",
        "below_vt = np.count_nonzero(s < vt)\n",
        "\n",
        "print(crossed_vt)\n",
        "print(below_vt)"
      ],
      "metadata": {
        "colab": {
          "base_uri": "https://localhost:8080/"
        },
        "id": "2wq8AuZ4zFMk",
        "outputId": "7b254fe3-02c7-4eec-d003-abab1ab27c9b"
      },
      "execution_count": 188,
      "outputs": [
        {
          "output_type": "stream",
          "name": "stdout",
          "text": [
            "24\n",
            "6\n"
          ]
        }
      ]
    },
    {
      "cell_type": "markdown",
      "source": [
        "Inferences\n",
        "\n",
        "Simulated  coin toss that maps a head as 1 and tail as 0.\n",
        "\n",
        "Tossed the coin N = 100, 500, 1000, 5000 and 500000 times and computed the probability (p) of head in each case.\n",
        "\n",
        "Computed the absolute error | 0:5 - p | in each case and plot against N and understood the law of large numbers.\n",
        "\n",
        "Created a uniform random vector with maximum magnitude 10, plotted and observed.\n",
        "\n",
        "Threshold set as  (VT = 2) and counted how many times the random function has crossed VT .\n"
      ],
      "metadata": {
        "id": "cos4g4Ya1Oxm"
      }
    }
  ]
}