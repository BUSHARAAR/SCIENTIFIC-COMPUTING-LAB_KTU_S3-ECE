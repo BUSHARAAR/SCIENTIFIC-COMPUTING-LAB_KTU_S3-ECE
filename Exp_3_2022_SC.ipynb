{
  "nbformat": 4,
  "nbformat_minor": 0,
  "metadata": {
    "colab": {
      "provenance": [],
      "collapsed_sections": []
    },
    "kernelspec": {
      "name": "python3",
      "display_name": "Python 3"
    },
    "language_info": {
      "name": "python"
    }
  },
  "cells": [
    {
      "cell_type": "markdown",
      "source": [
        "# **Experiment** 3. Realization of Arrays and Matrices"
      ],
      "metadata": {
        "id": "EjBg6tUic85P"
      }
    },
    {
      "cell_type": "markdown",
      "source": [
        "\n",
        "1. Realize one dimensional array of real and complex numbers\n",
        "2. stem and continous plots of real arrays using matplotlib/GUIs/charts.\n",
        "\n",
        "3. Realization of two dimensional arrays and matrices and their visualiza\n",
        "tions with imshow/matshow/charts\n",
        "\n",
        "4. Inverse of a square matrix and the solution of the matrix equation\n",
        "\n",
        "[A][X] = [b]\n",
        "5. with the help of singular value decomposition of A ,\n",
        "\n",
        "find Ui and Vi, the singular vectors and λi are the eigen values\n"
      ],
      "metadata": {
        "id": "A2RRYXImdYWq"
      }
    },
    {
      "cell_type": "markdown",
      "source": [
        "1. Realize one dimensional array of real and complex numbers\n",
        "\n",
        "An array is a special variable, which can hold more than one value at a time.\n",
        "\n"
      ],
      "metadata": {
        "id": "pjdk8j6NgJsj"
      }
    },
    {
      "cell_type": "code",
      "source": [
        "# importing the module\n",
        "import numpy as np\n",
        "  \n",
        "# creating a NumPy array\n",
        "num = np.array([-1, 31, 0.5])\n",
        "\n",
        "for i in range(len(num)):\n",
        "  print(num[i]) \n",
        "  print(num[i].real)\n",
        "  print(num[i].imag)\n",
        "  \n",
        "\n"
      ],
      "metadata": {
        "colab": {
          "base_uri": "https://localhost:8080/"
        },
        "id": "U_v6oDVxh4wB",
        "outputId": "37b3078c-5b74-4563-dbb3-ed9f144c5a0f"
      },
      "execution_count": null,
      "outputs": [
        {
          "output_type": "stream",
          "name": "stdout",
          "text": [
            "-1.0\n",
            "-1.0\n",
            "0.0\n",
            "31.0\n",
            "31.0\n",
            "0.0\n",
            "0.5\n",
            "0.5\n",
            "0.0\n"
          ]
        }
      ]
    },
    {
      "cell_type": "code",
      "source": [
        "  print(num[i].real)\n",
        "\n",
        "  print(num[i].imag)"
      ],
      "metadata": {
        "colab": {
          "base_uri": "https://localhost:8080/"
        },
        "id": "vw6OSOTK8D-E",
        "outputId": "1887def1-62d5-4948-d27a-327d38f61b99"
      },
      "execution_count": null,
      "outputs": [
        {
          "output_type": "stream",
          "name": "stdout",
          "text": [
            "0.5\n",
            "0.0\n"
          ]
        }
      ]
    },
    {
      "cell_type": "code",
      "source": [
        "# importing the module\n",
        "import numpy as np\n",
        "  \n",
        "# creating a NumPy array\n",
        "complex_num = np.array([-1 + 9j, 2 - 77j, 31 - 25j, 40 - 311j, 72 + 11j])\n",
        "for i in range(len(complex_num)):\n",
        "  print(complex_num[i]) \n",
        "  \n",
        "  print(complex_num[i].real)\n",
        "\n",
        "  print(complex_num[i].imag)"
      ],
      "metadata": {
        "colab": {
          "base_uri": "https://localhost:8080/"
        },
        "id": "sRTuURydjklB",
        "outputId": "f74de9e1-72f2-4244-cd6b-acbffa8cfeb4"
      },
      "execution_count": null,
      "outputs": [
        {
          "output_type": "stream",
          "name": "stdout",
          "text": [
            "(-1+9j)\n",
            "-1.0\n",
            "9.0\n",
            "(2-77j)\n",
            "2.0\n",
            "-77.0\n",
            "(31-25j)\n",
            "31.0\n",
            "-25.0\n",
            "(40-311j)\n",
            "40.0\n",
            "-311.0\n",
            "(72+11j)\n",
            "72.0\n",
            "11.0\n"
          ]
        }
      ]
    },
    {
      "cell_type": "markdown",
      "source": [
        "2. stem and continous plots of real arrays using matplotlib/GUIs/charts"
      ],
      "metadata": {
        "id": "4nfNwIImj5IJ"
      }
    },
    {
      "cell_type": "code",
      "source": [
        "import matplotlib.pyplot as plt\n",
        "import numpy as np\n",
        "\n",
        "#plot 1:\n",
        "x = np.array([0, 1, 2, 3])\n",
        "y = np.array([3, 8, 1, 10])\n",
        "\n",
        "plt.plot(x,y)\n"
      ],
      "metadata": {
        "id": "cWMMs0Ovq5-_",
        "colab": {
          "base_uri": "https://localhost:8080/",
          "height": 283
        },
        "outputId": "d12f18b2-f3c9-4aa3-e290-6b7ec8c4991f"
      },
      "execution_count": null,
      "outputs": [
        {
          "output_type": "execute_result",
          "data": {
            "text/plain": [
              "[<matplotlib.lines.Line2D at 0x7f8db152ec10>]"
            ]
          },
          "metadata": {},
          "execution_count": 12
        },
        {
          "output_type": "display_data",
          "data": {
            "text/plain": [
              "<Figure size 432x288 with 1 Axes>"
            ],
            "image/png": "[encoded data removed]"
          },
          "metadata": {
            "needs_background": "light"
          }
        }
      ]
    },
    {
      "cell_type": "code",
      "source": [
        "#plot 2:\n",
        "x = np.array([0, 1, 2, 3])\n",
        "y = np.array([3, 8, 1, 10])\n",
        "plt.stem(x,y)\n",
        "\n",
        "plt.show()"
      ],
      "metadata": {
        "colab": {
          "base_uri": "https://localhost:8080/",
          "height": 321
        },
        "id": "VfNThdAl1tYd",
        "outputId": "322fa3cb-c531-454f-b3f3-1db08d0d18a7"
      },
      "execution_count": null,
      "outputs": [
        {
          "output_type": "stream",
          "name": "stderr",
          "text": [
            "/usr/local/lib/python3.7/dist-packages/ipykernel_launcher.py:4: UserWarning: In Matplotlib 3.3 individual lines on a stem plot will be added as a LineCollection instead of individual lines. This significantly improves the performance of a stem plot. To remove this warning and switch to the new behaviour, set the \"use_line_collection\" keyword argument to True.\n",
            "  after removing the cwd from sys.path.\n"
          ]
        },
        {
          "output_type": "display_data",
          "data": {
            "text/plain": [
              "<Figure size 432x288 with 1 Axes>"
            ],
            "image/png": "[encoded data removed]"
          },
          "metadata": {
            "needs_background": "light"
          }
        }
      ]
    },
    {
      "cell_type": "code",
      "source": [
        "import matplotlib.pyplot as plt\n",
        "import numpy as np\n",
        "\n",
        "#plot 1:\n",
        "x = np.array([0, 1, 2, 3])\n",
        "y = np.array([3, 8, 1, 10])\n",
        "plt.plot(x,y)\n",
        "\n",
        "#plot 2:\n",
        "x = np.array([0, 1, 2, 3])\n",
        "y = np.array([3, 8, 1, 10])\n",
        "plt.stem(x,y)\n",
        "\n",
        "plt.show()"
      ],
      "metadata": {
        "colab": {
          "base_uri": "https://localhost:8080/",
          "height": 321
        },
        "id": "haKXIEKU2Hw0",
        "outputId": "997e4a08-b127-4d32-be30-5ed766cca02c"
      },
      "execution_count": null,
      "outputs": [
        {
          "output_type": "stream",
          "name": "stderr",
          "text": [
            "/usr/local/lib/python3.7/dist-packages/ipykernel_launcher.py:12: UserWarning: In Matplotlib 3.3 individual lines on a stem plot will be added as a LineCollection instead of individual lines. This significantly improves the performance of a stem plot. To remove this warning and switch to the new behaviour, set the \"use_line_collection\" keyword argument to True.\n",
            "  if sys.path[0] == '':\n"
          ]
        },
        {
          "output_type": "display_data",
          "data": {
            "text/plain": [
              "<Figure size 432x288 with 1 Axes>"
            ],
            "image/png": "[encoded data removed]"
          },
          "metadata": {
            "needs_background": "light"
          }
        }
      ]
    },
    {
      "cell_type": "code",
      "source": [
        "import matplotlib.pyplot as plt\n",
        "import numpy as np\n",
        "\n",
        "#plot 1:\n",
        "x = np.array([0, 1, 2, 3])\n",
        "y = np.array([3, 8, 1, 10])\n",
        "\n",
        "plt.subplot(2, 1, 1)\n",
        "plt.plot(x,y)\n",
        "\n",
        "#plot 2:\n",
        "x = np.array([0, 1, 2, 3])\n",
        "y = np.array([10, 2, 30, 4])\n",
        "\n",
        "plt.subplot(2, 1, 2)\n",
        "plt.stem(x,y)\n",
        "\n",
        "plt.show()"
      ],
      "metadata": {
        "colab": {
          "base_uri": "https://localhost:8080/",
          "height": 321
        },
        "id": "cMG0qbRfmk9l",
        "outputId": "e5e565bf-4782-4a13-a9db-9c09b81d6ad2"
      },
      "execution_count": null,
      "outputs": [
        {
          "output_type": "stream",
          "name": "stderr",
          "text": [
            "/usr/local/lib/python3.7/dist-packages/ipykernel_launcher.py:16: UserWarning: In Matplotlib 3.3 individual lines on a stem plot will be added as a LineCollection instead of individual lines. This significantly improves the performance of a stem plot. To remove this warning and switch to the new behaviour, set the \"use_line_collection\" keyword argument to True.\n",
            "  app.launch_new_instance()\n"
          ]
        },
        {
          "output_type": "display_data",
          "data": {
            "text/plain": [
              "<Figure size 432x288 with 2 Axes>"
            ],
            "image/png": "[encoded data removed]"
          },
          "metadata": {
            "needs_background": "light"
          }
        }
      ]
    },
    {
      "cell_type": "markdown",
      "source": [
        "3. Realization of two dimensional arrays and matrices and their visualizations with imshow/matshow/charts"
      ],
      "metadata": {
        "id": "40VVb21qqWPc"
      }
    },
    {
      "cell_type": "markdown",
      "source": [
        "The matplotlib function imshow() creates an image from a 2-dimensional numpy array. The image will have one square for each element of the array. The color of each square is determined by the value of the corresponding array element and the color map used by imshow() ."
      ],
      "metadata": {
        "id": "nuFKVFoQqL0w"
      }
    },
    {
      "cell_type": "code",
      "source": [
        "import matplotlib.pyplot as plt\n",
        "import numpy as np\n",
        "x=np.array([[1,2,3],[11,20,13]])\n",
        "\n",
        "print (x) #printing matrix\n",
        "\n",
        "plt.imshow(x)\n",
        "plt.show()"
      ],
      "metadata": {
        "colab": {
          "base_uri": "https://localhost:8080/",
          "height": 305
        },
        "id": "ZmF14_x-wAQZ",
        "outputId": "13c4a0c5-5236-4ff1-b3a2-7f15bf0bf7fd"
      },
      "execution_count": null,
      "outputs": [
        {
          "output_type": "stream",
          "name": "stdout",
          "text": [
            "[[ 1  2  3]\n",
            " [11 20 13]]\n"
          ]
        },
        {
          "output_type": "display_data",
          "data": {
            "text/plain": [
              "<Figure size 432x288 with 1 Axes>"
            ],
            "image/png": "[encoded data removed]"
          },
          "metadata": {
            "needs_background": "light"
          }
        }
      ]
    },
    {
      "cell_type": "code",
      "source": [
        "import matplotlib.pyplot as plt\n",
        "import numpy as np\n",
        "x=np.mat([[1,2,3],[11,12,13]])\n",
        "\n",
        "y=np.mat([[1,2,3],[4,5,6],[9,23,25]])#\tassigning\tthe\tvalues to matrix x\n",
        "\n",
        "print (x) #printing matrix\n",
        "\n",
        "plt.imshow(x)\n",
        "plt.show()\n",
        "\n",
        "print (y) #printing matrix\n",
        "\n",
        "plt.imshow(y)\n",
        "plt.show()\n"
      ],
      "metadata": {
        "colab": {
          "base_uri": "https://localhost:8080/",
          "height": 610
        },
        "id": "NMWqrAcvtGmz",
        "outputId": "2d3534c4-5391-4bbd-ca3a-42621259a6d4"
      },
      "execution_count": null,
      "outputs": [
        {
          "output_type": "stream",
          "name": "stdout",
          "text": [
            "[[ 1  2  3]\n",
            " [11 12 13]]\n"
          ]
        },
        {
          "output_type": "display_data",
          "data": {
            "text/plain": [
              "<Figure size 432x288 with 1 Axes>"
            ],
            "image/png": "[encoded data removed]"
          },
          "metadata": {
            "needs_background": "light"
          }
        },
        {
          "output_type": "stream",
          "name": "stdout",
          "text": [
            "[[ 1  2  3]\n",
            " [ 4  5  6]\n",
            " [ 9 23 25]]\n"
          ]
        },
        {
          "output_type": "display_data",
          "data": {
            "text/plain": [
              "<Figure size 432x288 with 1 Axes>"
            ],
            "image/png": "[encoded data removed]"
          },
          "metadata": {
            "needs_background": "light"
          }
        }
      ]
    },
    {
      "cell_type": "markdown",
      "source": [
        "4. Inverse of a square matrix and the solution of the matrix equation \n",
        "\n",
        "[A][X] = [b]"
      ],
      "metadata": {
        "id": "IvAmDKmY4GX0"
      }
    },
    {
      "cell_type": "code",
      "source": [
        "import numpy as np\n",
        "x=np.mat([[3,2],[3,5]])# assigning the values to matrix x print ('The matrix is :') #printing matrix\n",
        "print ('The matrix is :', x) #printing matrix"
      ],
      "metadata": {
        "colab": {
          "base_uri": "https://localhost:8080/"
        },
        "id": "9-H2pqkgpBzY",
        "outputId": "216b7f7f-f3b8-4160-b2e1-b9ffe0f81d43"
      },
      "execution_count": null,
      "outputs": [
        {
          "output_type": "stream",
          "name": "stdout",
          "text": [
            "The matrix is : [[3 2]\n",
            " [3 5]]\n"
          ]
        }
      ]
    },
    {
      "cell_type": "code",
      "source": [
        "print ('The size of the matrix is :',np.shape(x)) # printing size of the matrix\n",
        "print ('Transpose of the matrix is :') #printing matrix print (transpose(x)) # printing transpose of matrix show() #Display all figures.\n",
        "\n",
        "print (np.transpose(x)) # printing transpose of matrix "
      ],
      "metadata": {
        "colab": {
          "base_uri": "https://localhost:8080/"
        },
        "id": "4kAhoFI3p-sw",
        "outputId": "5868ab8f-beff-4aa2-a170-3978228731c7"
      },
      "execution_count": null,
      "outputs": [
        {
          "output_type": "stream",
          "name": "stdout",
          "text": [
            "The size of the matrix is : (2, 2)\n",
            "Transpose of the matrix is :\n",
            "[[3 3]\n",
            " [2 5]]\n"
          ]
        }
      ]
    },
    {
      "cell_type": "code",
      "source": [
        "from pylab import *\n",
        "y =inv(x) # calculating inverse of the matrix \n",
        "print(y)"
      ],
      "metadata": {
        "colab": {
          "base_uri": "https://localhost:8080/"
        },
        "id": "X1f_aSbVp-1G",
        "outputId": "2b1dcccf-a8de-48da-8591-e28fd219d18f"
      },
      "execution_count": null,
      "outputs": [
        {
          "output_type": "stream",
          "name": "stdout",
          "text": [
            "[[ 0.55555556 -0.22222222]\n",
            " [-0.33333333  0.33333333]]\n"
          ]
        }
      ]
    },
    {
      "cell_type": "markdown",
      "source": [
        "let the linear equations are\n",
        "\n",
        "5x + 9y - 1z = 45\n",
        "\n",
        "2x - 2y + 6z = 12\n",
        "\n",
        "9x - 4y + 9z = 65\n"
      ],
      "metadata": {
        "id": "S9ccWOi9uNJX"
      }
    },
    {
      "cell_type": "code",
      "source": [
        "#Solution of the matrix equation [A][X] = [b], then [X] = A-1  [b]\n",
        "\n",
        "A=array([[5,9,-1],[2,2,6],[9,-4, 9]])# assigning the values to matrix A from the equaton\n",
        "\n",
        "b = array([45,12,65]) # assigning the values of b matrix\n",
        "\n",
        "\n",
        "\n",
        "print(\"A matrix is\")\n",
        "\n",
        "print(A) # printing the A matrix print(\"b matrix is\")\n",
        "print(b) #printing then b matrix\n",
        "\n",
        "X=inv(A).dot(b) # calculating the values of x,y,z print(\"X matrix is\")\n",
        "\n",
        "print(X) # printing the X matrix "
      ],
      "metadata": {
        "colab": {
          "base_uri": "https://localhost:8080/"
        },
        "id": "t-HHHck1t7YH",
        "outputId": "b952c3c7-4e4b-48eb-c8a9-5d27d735c369"
      },
      "execution_count": null,
      "outputs": [
        {
          "output_type": "stream",
          "name": "stdout",
          "text": [
            "A matrix is\n",
            "[[ 5  9 -1]\n",
            " [ 2  2  6]\n",
            " [ 9 -4  9]]\n",
            "[45 12 65]\n",
            "[ 8.225       0.33571429 -0.85357143]\n"
          ]
        }
      ]
    },
    {
      "cell_type": "markdown",
      "source": [
        "5. Computation of the rank(ρ) and eigen values (λi) of A"
      ],
      "metadata": {
        "id": "JRXTmaNvrM6F"
      }
    },
    {
      "cell_type": "code",
      "source": [
        "A=np.mat([[3,2],[3,5]])\n",
        "A"
      ],
      "metadata": {
        "colab": {
          "base_uri": "https://localhost:8080/"
        },
        "id": "TF7RcyPMp-39",
        "outputId": "8dec177c-f255-483d-9244-f56a4e7e5756"
      },
      "execution_count": null,
      "outputs": [
        {
          "output_type": "execute_result",
          "data": {
            "text/plain": [
              "matrix([[3, 2],\n",
              "        [3, 5]])"
            ]
          },
          "metadata": {},
          "execution_count": 23
        }
      ]
    },
    {
      "cell_type": "code",
      "source": [
        "\n",
        "# Finding Rank of a A Rnk = matrix_rank(A)\n",
        "R =matrix_rank(A)\n",
        "\n",
        "print(\"Rank of A:\",R) #Printing the rank of the matrix #finding the eigenvectors of A\n",
        "L = eig(A)\n",
        "\n",
        "print(\"Eigen values are :\",L[0]) #printing the eigenvectors\n",
        "print(\"Eigen values are :\",L[1])"
      ],
      "metadata": {
        "colab": {
          "base_uri": "https://localhost:8080/"
        },
        "id": "yLtZ9qMtp-6o",
        "outputId": "760dc92b-3f15-4949-c425-276a56bc78ea"
      },
      "execution_count": null,
      "outputs": [
        {
          "output_type": "stream",
          "name": "stdout",
          "text": [
            "Rank of A: 2\n",
            "Eigen values are : [1.35424869 6.64575131]\n",
            "Eigen values are : [[-0.7721779  -0.48096517]\n",
            " [ 0.6354064  -0.8767397 ]]\n"
          ]
        }
      ]
    },
    {
      "cell_type": "markdown",
      "source": [
        "# Singular Value Decomposition of a Matrix"
      ],
      "metadata": {
        "id": "C05g3hmivZ6J"
      }
    },
    {
      "cell_type": "markdown",
      "source": [
        "The function takes a matrix and returns the U, Sigma and V^T elements. The Sigma diagonal matrix is returned as a vector of singular values. The V matrix is returned in a transposed form, e.g. V.T.\n",
        "\n",
        "The example below defines a 3×2 matrix and calculates the Singular-value decomposition."
      ],
      "metadata": {
        "id": "W0CsH8Chw9Hz"
      }
    },
    {
      "cell_type": "markdown",
      "source": [
        "Mathematically, the singular value decomposition of a matrix can be explained as follows:\n",
        "\n",
        "Consider a matrix A of order mxn.\n",
        "\n",
        "This can be uniquely decomposed as:\n",
        "\n",
        "A = UsV^T\n",
        "\n",
        "U is mxn and column orthogonal \n",
        "\n",
        "V is nxn and orthogonal \n",
        "\n",
        "s is nxn diagonal, where non-negative real values are called singular values."
      ],
      "metadata": {
        "id": "b6DNmCVnvSSR"
      }
    },
    {
      "cell_type": "code",
      "source": [
        "# Reconstruct SVD\n",
        "import numpy as np\n",
        "from scipy.linalg import svd\n",
        "# define a matrix\n",
        "A = np.array([[1, 2], [3, 4]])\n",
        "print(A)\n",
        "# Singular-value decomposition\n",
        "U, s, VT = svd(A)\n",
        "print(U)"
      ],
      "metadata": {
        "colab": {
          "base_uri": "https://localhost:8080/"
        },
        "id": "cWOaYXJc1zfE",
        "outputId": "ec48c664-9497-4824-fb29-0f7241e71fa4"
      },
      "execution_count": null,
      "outputs": [
        {
          "output_type": "stream",
          "name": "stdout",
          "text": [
            "[[1 2]\n",
            " [3 4]]\n",
            "[[-0.40455358 -0.9145143 ]\n",
            " [-0.9145143   0.40455358]]\n"
          ]
        }
      ]
    },
    {
      "cell_type": "code",
      "source": [
        "print(s)"
      ],
      "metadata": {
        "colab": {
          "base_uri": "https://localhost:8080/"
        },
        "id": "DdTqqMRV2VyL",
        "outputId": "9ccf40ea-3890-470d-d211-4a87824aec6c"
      },
      "execution_count": null,
      "outputs": [
        {
          "output_type": "stream",
          "name": "stdout",
          "text": [
            "[5.4649857  0.36596619]\n"
          ]
        }
      ]
    },
    {
      "cell_type": "code",
      "source": [
        "print(VT)"
      ],
      "metadata": {
        "colab": {
          "base_uri": "https://localhost:8080/"
        },
        "id": "sWz3j0uA2WuA",
        "outputId": "6b71fdd1-9272-4664-be18-ecc4012d21bd"
      },
      "execution_count": null,
      "outputs": [
        {
          "output_type": "stream",
          "name": "stdout",
          "text": [
            "[[-0.57604844 -0.81741556]\n",
            " [ 0.81741556 -0.57604844]]\n"
          ]
        }
      ]
    },
    {
      "cell_type": "code",
      "source": [
        "# Reconstruct SVD\n",
        "# create n x n Sigma matrix\n",
        "Sigma = np.diag(s)\n",
        "# reconstruct matrix\n",
        "B = U.dot(Sigma.dot(VT))\n",
        "print(B)"
      ],
      "metadata": {
        "colab": {
          "base_uri": "https://localhost:8080/"
        },
        "id": "18reAvj2p-9_",
        "outputId": "82fd9a52-2a61-4909-a255-068e087f3d4a"
      },
      "execution_count": null,
      "outputs": [
        {
          "output_type": "stream",
          "name": "stdout",
          "text": [
            "[[1. 2.]\n",
            " [3. 4.]]\n"
          ]
        }
      ]
    },
    {
      "cell_type": "code",
      "source": [
        "Sigma"
      ],
      "metadata": {
        "colab": {
          "base_uri": "https://localhost:8080/"
        },
        "id": "SwNyAqoWAPjo",
        "outputId": "6d0c3f8d-28b3-4bee-c527-7e1d552af824"
      },
      "execution_count": null,
      "outputs": [
        {
          "output_type": "execute_result",
          "data": {
            "text/plain": [
              "array([[5.4649857 , 0.        ],\n",
              "       [0.        , 0.36596619]])"
            ]
          },
          "metadata": {},
          "execution_count": 28
        }
      ]
    },
    {
      "cell_type": "markdown",
      "source": [
        "Inferences\n",
        "\n",
        "Realized and understood one dimensional array of real and complex numbers\n",
        "\n",
        "Plotted real arrays using stem and continuous plots with matplotlib\n",
        "\n",
        "Realized\ttwo\tdimensional\tarrays\tand\tmatrices\tand\ttheir\tvisualizations\twith imshow/matshow/charts\n",
        "\n",
        "Calculated Inverse of a square matrix and the solution of the matrix equation using python\n",
        "\n",
        "Computed the rank(ρ) and eigenvalues (λi) of matix A\n"
      ],
      "metadata": {
        "id": "ibs7tCXctCRE"
      }
    }
  ]
}